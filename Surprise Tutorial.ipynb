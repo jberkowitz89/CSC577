{
 "cells": [
  {
   "cell_type": "markdown",
   "metadata": {},
   "source": [
    "# Messing Around with Surprise"
   ]
  },
  {
   "cell_type": "code",
   "execution_count": 1,
   "metadata": {},
   "outputs": [],
   "source": [
    "#Package Importing\n",
    "import pandas as pd\n",
    "import numpy as np\n",
    "import os\n",
    "import matplotlib.pyplot as plt\n",
    "import seaborn as sns\n",
    "from surprise import Dataset, accuracy\n",
    "from surprise.prediction_algorithms import KNNWithMeans\n",
    "from surprise.model_selection import cross_validate, KFold"
   ]
  },
  {
   "cell_type": "code",
   "execution_count": 2,
   "metadata": {},
   "outputs": [
    {
     "name": "stdout",
     "output_type": "stream",
     "text": [
      "Dataset ml-100k could not be found. Do you want to download it? [Y/n] y\n",
      "Trying to download dataset from http://files.grouplens.org/datasets/movielens/ml-100k.zip...\n",
      "Done! Dataset ml-100k has been saved to C:\\Users\\joseph.berkowitz/.surprise_data/ml-100k\n"
     ]
    }
   ],
   "source": [
    "#Importing movielens-100k dataset\n",
    "data = Dataset.load_builtin('ml-100k')"
   ]
  },
  {
   "cell_type": "code",
   "execution_count": 5,
   "metadata": {},
   "outputs": [],
   "source": [
    "data = Dataset.load_builtin('ml-100k')"
   ]
  },
  {
   "cell_type": "code",
   "execution_count": 13,
   "metadata": {},
   "outputs": [
    {
     "data": {
      "text/plain": [
       "[('196', '242', 3.0, '881250949'),\n",
       " ('186', '302', 3.0, '891717742'),\n",
       " ('22', '377', 1.0, '878887116'),\n",
       " ('244', '51', 2.0, '880606923'),\n",
       " ('166', '346', 1.0, '886397596')]"
      ]
     },
     "execution_count": 13,
     "metadata": {},
     "output_type": "execute_result"
    }
   ],
   "source": [
    "#Checking ratings data format\n",
    "data.raw_ratings[0:5]"
   ]
  },
  {
   "cell_type": "code",
   "execution_count": 15,
   "metadata": {},
   "outputs": [
    {
     "name": "stdout",
     "output_type": "stream",
     "text": [
      "Computing the pearson similarity matrix...\n",
      "Done computing similarity matrix.\n",
      "Computing the pearson similarity matrix...\n",
      "Done computing similarity matrix.\n",
      "Computing the pearson similarity matrix...\n",
      "Done computing similarity matrix.\n",
      "Computing the pearson similarity matrix...\n",
      "Done computing similarity matrix.\n",
      "Computing the pearson similarity matrix...\n",
      "Done computing similarity matrix.\n",
      "Evaluating MAE, RMSE of algorithm KNNWithMeans on 5 split(s).\n",
      "\n",
      "                  Fold 1  Fold 2  Fold 3  Fold 4  Fold 5  Mean    Std     \n",
      "MAE (testset)     0.7437  0.7386  0.7420  0.7488  0.7420  0.7430  0.0033  \n",
      "RMSE (testset)    0.9512  0.9439  0.9467  0.9545  0.9469  0.9486  0.0037  \n",
      "Fit time          2.79    3.44    4.86    4.39    4.09    3.91    0.72    \n",
      "Test time         4.90    7.00    6.56    6.60    5.10    6.03    0.86    \n"
     ]
    },
    {
     "data": {
      "text/plain": [
       "{'test_mae': array([0.74368062, 0.73862789, 0.74201405, 0.74882126, 0.74202511]),\n",
       " 'test_rmse': array([0.95118758, 0.94394191, 0.94669571, 0.95448285, 0.9468625 ]),\n",
       " 'fit_time': (2.7939820289611816,\n",
       "  3.441420316696167,\n",
       "  4.859930038452148,\n",
       "  4.387575626373291,\n",
       "  4.085370779037476),\n",
       " 'test_time': (4.902202367782593,\n",
       "  6.9974424839019775,\n",
       "  6.563614130020142,\n",
       "  6.596137523651123,\n",
       "  5.097605466842651)}"
      ]
     },
     "execution_count": 15,
     "metadata": {},
     "output_type": "execute_result"
    }
   ],
   "source": [
    "#Instantiating the user-based algorithm\n",
    "#Similarity metric - pearson\n",
    "sim_options = {\"name\": \"pearson\",\n",
    "               \"user_based\": True}\n",
    "\n",
    "algo = KNNWithMeans(sim_options=sim_options, verbose=True)\n",
    "\n",
    "#5-Fold Cross Validation for User-Based\n",
    "cross_validate(algo, data, measures=[\"MAE\", \"RMSE\"], cv=5, verbose=True)"
   ]
  },
  {
   "cell_type": "code",
   "execution_count": 16,
   "metadata": {},
   "outputs": [
    {
     "name": "stdout",
     "output_type": "stream",
     "text": [
      "Computing the pearson similarity matrix...\n",
      "Done computing similarity matrix.\n",
      "Computing the pearson similarity matrix...\n",
      "Done computing similarity matrix.\n",
      "Computing the pearson similarity matrix...\n",
      "Done computing similarity matrix.\n",
      "Computing the pearson similarity matrix...\n",
      "Done computing similarity matrix.\n",
      "Computing the pearson similarity matrix...\n",
      "Done computing similarity matrix.\n",
      "Evaluating RMSE of algorithm KNNWithMeans on 5 split(s).\n",
      "\n",
      "                  Fold 1  Fold 2  Fold 3  Fold 4  Fold 5  Mean    Std     \n",
      "RMSE (testset)    0.9517  0.9450  0.9481  0.9491  0.9528  0.9493  0.0028  \n",
      "Fit time          2.83    8.58    2.82    2.70    4.64    4.31    2.25    \n",
      "Test time         6.31    6.33    5.17    5.23    9.77    6.56    1.68    \n"
     ]
    }
   ],
   "source": [
    "#Just Pulling RMSE from cross validation results\n",
    "results = cross_validate(algo, data, measures=[\"RMSE\"], cv=5, verbose=True)"
   ]
  },
  {
   "cell_type": "code",
   "execution_count": 21,
   "metadata": {},
   "outputs": [],
   "source": [
    "user_based_rmse = results['test_rmse']"
   ]
  },
  {
   "cell_type": "code",
   "execution_count": 22,
   "metadata": {},
   "outputs": [
    {
     "name": "stdout",
     "output_type": "stream",
     "text": [
      "Computing the cosine similarity matrix...\n",
      "Done computing similarity matrix.\n",
      "Computing the cosine similarity matrix...\n",
      "Done computing similarity matrix.\n",
      "Computing the cosine similarity matrix...\n",
      "Done computing similarity matrix.\n",
      "Computing the cosine similarity matrix...\n",
      "Done computing similarity matrix.\n",
      "Computing the cosine similarity matrix...\n",
      "Done computing similarity matrix.\n",
      "Evaluating RMSE of algorithm KNNWithMeans on 5 split(s).\n",
      "\n",
      "                  Fold 1  Fold 2  Fold 3  Fold 4  Fold 5  Mean    Std     \n",
      "RMSE (testset)    0.9430  0.9445  0.9501  0.9355  0.9386  0.9423  0.0050  \n",
      "Fit time          3.90    5.77    10.26   4.35    5.51    5.96    2.26    \n",
      "Test time         6.82    6.30    12.50   6.60    6.42    7.73    2.39    \n"
     ]
    }
   ],
   "source": [
    "#Instantiating the item-based algorithm\n",
    "#Similarity metric - cosine\n",
    "sim_options = {\"name\":\"cosine\",\n",
    "               \"user_based\":False}\n",
    "\n",
    "algo = KNNWithMeans(sim_options=sim_options, verbose=True)\n",
    "\n",
    "#5-fold cross validation for item-based\n",
    "results = cross_validate(algo, data, measures=[\"RMSE\"], cv=5, verbose=True)"
   ]
  },
  {
   "cell_type": "code",
   "execution_count": 23,
   "metadata": {},
   "outputs": [
    {
     "data": {
      "text/plain": [
       "array([0.94300046, 0.94448751, 0.95012937, 0.93552729, 0.93857873])"
      ]
     },
     "execution_count": 23,
     "metadata": {},
     "output_type": "execute_result"
    }
   ],
   "source": [
    "item_based_rmse = results[\"test_rmse\"]\n",
    "item_based_rmse"
   ]
  },
  {
   "cell_type": "code",
   "execution_count": 29,
   "metadata": {},
   "outputs": [
    {
     "data": {
      "image/png": "[encoded data removed]",
      "text/plain": [
       "<Figure size 432x288 with 1 Axes>"
      ]
     },
     "metadata": {
      "needs_background": "light"
     },
     "output_type": "display_data"
    }
   ],
   "source": [
    "plt.boxplot([user_based_rmse, item_based_rmse], vert=False, labels=[\"User-Based\", \"Item-Based\"])\n",
    "plt.show()"
   ]
  },
  {
   "cell_type": "code",
   "execution_count": 31,
   "metadata": {},
   "outputs": [
    {
     "name": "stdout",
     "output_type": "stream",
     "text": [
      "Computing the pearson similarity matrix...\n",
      "Done computing similarity matrix.\n",
      "RMSE: 0.9541\n",
      "RMSE: 0.9541\n",
      "Computing the pearson similarity matrix...\n",
      "Done computing similarity matrix.\n",
      "RMSE: 0.9568\n",
      "RMSE: 0.9568\n",
      "Computing the pearson similarity matrix...\n",
      "Done computing similarity matrix.\n",
      "RMSE: 0.9455\n",
      "RMSE: 0.9455\n",
      "Computing the pearson similarity matrix...\n",
      "Done computing similarity matrix.\n",
      "RMSE: 0.9461\n",
      "RMSE: 0.9461\n",
      "Computing the pearson similarity matrix...\n",
      "Done computing similarity matrix.\n",
      "RMSE: 0.9452\n",
      "RMSE: 0.9452\n"
     ]
    }
   ],
   "source": [
    "#KFold Cross Validation\n",
    "#Instantiating the user-based algorithm\n",
    "#Similarity metric - pearson\n",
    "data = Dataset.load_builtin('ml-100k')\n",
    "\n",
    "sim_options = {\"name\": \"pearson\",\n",
    "               \"user_based\": True}\n",
    "\n",
    "algo = KNNWithMeans(sim_options=sim_options)\n",
    "\n",
    "kf = KFold(n_splits=5, random_state=33)\n",
    "\n",
    "user_based_results = []\n",
    "\n",
    "for trainset, testset in kf.split(data):\n",
    "    \n",
    "    #train and test algorithm\n",
    "    algo.fit(trainset)\n",
    "    predictions = algo.test(testset)\n",
    "    \n",
    "    #compute and print RMSE\n",
    "    user_based_results.append(accuracy.rmse(predictions))"
   ]
  },
  {
   "cell_type": "code",
   "execution_count": 32,
   "metadata": {},
   "outputs": [
    {
     "data": {
      "text/plain": [
       "[0.9540962507997115,\n",
       " 0.9567602058635479,\n",
       " 0.9454972532434166,\n",
       " 0.9460664270754,\n",
       " 0.945218120893166]"
      ]
     },
     "execution_count": 32,
     "metadata": {},
     "output_type": "execute_result"
    }
   ],
   "source": [
    "user_based_results"
   ]
  },
  {
   "cell_type": "code",
   "execution_count": 33,
   "metadata": {},
   "outputs": [
    {
     "name": "stdout",
     "output_type": "stream",
     "text": [
      "Computing the cosine similarity matrix...\n",
      "Done computing similarity matrix.\n",
      "RMSE: 0.9510\n",
      "Computing the cosine similarity matrix...\n",
      "Done computing similarity matrix.\n",
      "RMSE: 0.9481\n",
      "Computing the cosine similarity matrix...\n",
      "Done computing similarity matrix.\n",
      "RMSE: 0.9384\n",
      "Computing the cosine similarity matrix...\n",
      "Done computing similarity matrix.\n",
      "RMSE: 0.9352\n",
      "Computing the cosine similarity matrix...\n",
      "Done computing similarity matrix.\n",
      "RMSE: 0.9412\n"
     ]
    }
   ],
   "source": [
    "#KFold Cross Validation\n",
    "#Instantiating the user-based algorithm\n",
    "#Similarity metric - pearson\n",
    "data = Dataset.load_builtin('ml-100k')\n",
    "\n",
    "sim_options = {\"name\": \"cosine\",\n",
    "               \"user_based\": False}\n",
    "\n",
    "algo = KNNWithMeans(sim_options=sim_options)\n",
    "\n",
    "kf = KFold(n_splits=5, random_state=33)\n",
    "\n",
    "item_based_results = []\n",
    "\n",
    "for trainset, testset in kf.split(data):\n",
    "    \n",
    "    #train and test algorithm\n",
    "    algo.fit(trainset)\n",
    "    predictions = algo.test(testset)\n",
    "    \n",
    "    #compute and print RMSE\n",
    "    item_based_results.append(accuracy.rmse(predictions))"
   ]
  },
  {
   "cell_type": "code",
   "execution_count": 34,
   "metadata": {},
   "outputs": [
    {
     "data": {
      "image/png": "[encoded data removed]",
      "text/plain": [
       "<Figure size 432x288 with 1 Axes>"
      ]
     },
     "metadata": {
      "needs_background": "light"
     },
     "output_type": "display_data"
    }
   ],
   "source": [
    "plt.boxplot([user_based_results, item_based_results], vert=False, labels=[\"User-Based\", \"Item-Based\"])\n",
    "plt.show()"
   ]
  },
  {
   "cell_type": "code",
   "execution_count": 36,
   "metadata": {},
   "outputs": [
    {
     "data": {
      "text/plain": [
       "Ttest_relResult(statistic=4.669784527902444, pvalue=0.00951984514653629)"
      ]
     },
     "execution_count": 36,
     "metadata": {},
     "output_type": "execute_result"
    }
   ],
   "source": [
    "from scipy import stats\n",
    "stats.ttest_rel(user_based_results, item_based_results)"
   ]
  },
  {
   "cell_type": "code",
   "execution_count": null,
   "metadata": {},
   "outputs": [],
   "source": []
  }
 ],
 "metadata": {
  "kernelspec": {
   "display_name": "Python 3",
   "language": "python",
   "name": "python3"
  },
  "language_info": {
   "codemirror_mode": {
    "name": "ipython",
    "version": 3
   },
   "file_extension": ".py",
   "mimetype": "text/x-python",
   "name": "python",
   "nbconvert_exporter": "python",
   "pygments_lexer": "ipython3",
   "version": "3.7.3"
  }
 },
 "nbformat": 4,
 "nbformat_minor": 2
}
